{
 "cells": [
  {
   "cell_type": "markdown",
   "metadata": {},
   "source": [
    "# MAIN SCRIPT"
   ]
  },
  {
   "cell_type": "markdown",
   "metadata": {},
   "source": [
    "#### Paths that must be changed are highlighted using   #---------------------------------- "
   ]
  },
  {
   "cell_type": "code",
   "execution_count": 1,
   "metadata": {},
   "outputs": [],
   "source": [
    "import pandas as pd\n",
    "import numpy as np\n",
    "import matplotlib.pyplot as plt\n",
    "from numpy.polynomial.polynomial import polyfit\n",
    "import seaborn as sns\n",
    "import math\n",
    "import os\n",
    "import pickle\n",
    "from tensorflow.keras.models import model_from_json\n",
    "from sklearn.model_selection import train_test_split\n",
    "from sklearn.model_selection import ShuffleSplit\n",
    "from sklearn.preprocessing import StandardScaler\n",
    "from sklearn.preprocessing import MinMaxScaler\n",
    "import warnings\n",
    "warnings.filterwarnings(\"ignore\")\n",
    "import os\n",
    "import tensorflow as tf\n",
    "os.environ['TF_CPP_MIN_LOG_LEVEL'] = '3'\n",
    "os.environ[\"PATH\"] += os.pathsep + 'C:/Program Files/Graphviz/bin/'"
   ]
  },
  {
   "cell_type": "markdown",
   "metadata": {},
   "source": [
    "## Functions"
   ]
  },
  {
   "cell_type": "code",
   "execution_count": 2,
   "metadata": {},
   "outputs": [],
   "source": [
    "def comb_T2954(dataset, data_combined_T2954):\n",
    "    \n",
    "    \n",
    "    output = dataset['T3028 Batch [#]'].unique()\n",
    "    \n",
    "    for m in output:\n",
    "        \n",
    "        T2955_ind = []\n",
    "        data = dataset.loc[dataset['T3028 Batch [#]'] == m]\n",
    "        data = data.reset_index()\n",
    "        del data['index']\n",
    "        \n",
    "        data['Content_T2954 [%]']=None\n",
    "        data['T2954_chiral_purity [%]']=None\n",
    "        data['T2954_water-content [%]']=None\n",
    "        data['R493916_in_T2954 [%]']=None\n",
    "        \n",
    "        for i in range(data.shape[0]):\n",
    "            if pd.isnull(data.loc[i]['Batch T2955 [#]'])==False:\n",
    "                T2955_ind.append(i)\n",
    "        \n",
    "        T2955 = []\n",
    "        for i in T2955_ind:\n",
    "            T2955.append(data.loc[i]['Batch T2955 [#]'])\n",
    "            \n",
    "        indices = T2955_ind.copy()\n",
    "        indices.append(data.shape[0])\n",
    "\n",
    "        \n",
    "        lim = 0\n",
    "    \n",
    "        for i in indices:\n",
    "            if (indices[lim]!=data.shape[0]):\n",
    "                lim = lim+1\n",
    "                ulim = indices[lim]\n",
    "        \n",
    "                weight_T2954 = 0\n",
    "                content_T2954 = 0\n",
    "                chiral_T2954 = 0\n",
    "                water_content_T2954 = 0\n",
    "                R493916_T2954 = 0\n",
    "        \n",
    "                for j in range(i, ulim):\n",
    "                    weight_T2954 = weight_T2954 + (data['Weight T2954 [kg]'][j])\n",
    "                    content_T2954 = content_T2954 + (data['Weight T2954 [kg]'][j])*(data['Content T2954 [%]'][j])\n",
    "                    chiral_T2954 = chiral_T2954 + (data['Weight T2954 [kg]'][j])*(data['T2954 chiral purity [%]'][j])\n",
    "                    water_content_T2954 = water_content_T2954 + (data['Weight T2954 [kg]'][j])*(data['T2954 water-content [%]'][j])\n",
    "                    R493916_T2954 = R493916_T2954 + (data['Weight T2954 [kg]'][j])*(data['R493916 in T2954 [%]'][j])\n",
    "            \n",
    "            \n",
    "                content_T2954 = content_T2954/weight_T2954\n",
    "                chiral_T2954 = chiral_T2954/weight_T2954\n",
    "                water_content_T2954 = water_content_T2954/weight_T2954\n",
    "                R493916_T2954 = R493916_T2954/weight_T2954\n",
    "            \n",
    "                data.loc[[i],'Content_T2954 [%]'] = content_T2954\n",
    "                data.loc[[i],'T2954_chiral_purity [%]'] = chiral_T2954\n",
    "                data.loc[[i],'T2954_water-content [%]'] = water_content_T2954\n",
    "                data.loc[[i],'R493916_in_T2954 [%]'] = R493916_T2954\n",
    "                \n",
    "        data = data.dropna(axis=0, subset=['Batch T2955 [#]'] )\n",
    "        data = data.drop(['Batch T2954 [#]', 'Weight T2954 [kg]', 'Content T2954 [%]', \n",
    "                          'T2954 chiral purity [%]', 'T2954 water-content [%]',\n",
    "                          'R493916 in T2954 [%]'], 1)\n",
    "        \n",
    "        data_combined_T2954 = data_combined_T2954.append(data, ignore_index = True)\n",
    "        \n",
    "    return data_combined_T2954"
   ]
  },
  {
   "cell_type": "code",
   "execution_count": 3,
   "metadata": {},
   "outputs": [],
   "source": [
    "def comb_2955(dataset, data_combined_T2955):\n",
    "    \n",
    "    output = dataset['T3028 Batch [#]'].unique()\n",
    "    \n",
    "    for m in output:\n",
    "        \n",
    "        data = dataset.loc[dataset['T3028 Batch [#]'] == m]\n",
    "        data = data.reset_index()\n",
    "        del data['index']\n",
    "        \n",
    "        data['Weight_T2955 [kg]']=None\n",
    "        data['Content_T2955 [%]']=None\n",
    "        data['T2955_chiral_purity [%]']=None\n",
    "        data['T2955_water-content [%]']=None\n",
    "        data['R493916_in_T2955 [%]']=None\n",
    "        \n",
    "        weight_T2955 = 0\n",
    "        content_T2955 = 0\n",
    "        chiral_T2955 = 0\n",
    "        water_content_T2955 = 0\n",
    "        R493916_T2955 = 0\n",
    "        \n",
    "        for j in range(data.shape[0]):\n",
    "            weight_T2955 = weight_T2955 + (data['Weight T2955 [kg]'][j])\n",
    "            content_T2955 = content_T2955 + (data['Weight T2955 [kg]'][j])*(data['Content_T2954 [%]'][j])\n",
    "            chiral_T2955 = chiral_T2955 + (data['Weight T2955 [kg]'][j])*(data['T2954_chiral_purity [%]'][j])\n",
    "            water_content_T2955 = water_content_T2955 + (data['Weight T2955 [kg]'][j])*(data['T2954_water-content [%]'][j])\n",
    "            R493916_T2955 = R493916_T2955 + (data['Weight T2955 [kg]'][j])*(data['R493916_in_T2954 [%]'][j])\n",
    "            \n",
    "            \n",
    "        content_T2955 = content_T2955/weight_T2955\n",
    "        chiral_T2955 = chiral_T2955/weight_T2955\n",
    "        water_content_T2955 = water_content_T2955/weight_T2955\n",
    "        R493916_T2955 = R493916_T2955/weight_T2955\n",
    "        \n",
    "        data.loc[0,'Weight_T2955 [kg]'] = weight_T2955\n",
    "        data.loc[0,'Content_T2955 [%]'] = content_T2955\n",
    "        data.loc[0,'T2955_chiral_purity [%]'] = chiral_T2955\n",
    "        data.loc[0,'T2955_water-content [%]'] = water_content_T2955\n",
    "        data.loc[0,'R493916_in_T2955 [%]'] = R493916_T2955\n",
    "        \n",
    "        data = data.dropna(axis=0, subset=['No_ChangeINDEX'])\n",
    "        \n",
    "        data = data.drop(['Weight T2955 [kg]', 'Content_T2954 [%]', 'T2954_chiral_purity [%]',\n",
    "                          'T2954_water-content [%]', 'R493916_in_T2954 [%]' ], 1)\n",
    "        \n",
    "        data_combined_T2955 = data_combined_T2955.append(data, ignore_index = True)\n",
    "        \n",
    "        \n",
    "    return data_combined_T2955 "
   ]
  },
  {
   "cell_type": "code",
   "execution_count": 4,
   "metadata": {},
   "outputs": [],
   "source": [
    "def pred_model(ip_data):\n",
    "    #-------------------------------------------------------------------------------\n",
    "    xgboost = pickle.load(open(r'M:\\TechlabsWS21\\FINAL model\\xgboostmodel', 'rb'))\n",
    "    #-------------------------------------------------------------------------------\n",
    "    resultXGB = xgboost.predict(ip_data)\n",
    "    resultXGB = resultXGB.item()\n",
    "    \n",
    "    #-------------------------------------------------------------------------------\n",
    "    randomforest = pickle.load(open(r'M:\\TechlabsWS21\\FINAL model\\randomforestmodel', 'rb'))\n",
    "    #-------------------------------------------------------------------------------\n",
    "    resultRF = randomforest.predict(ip_data)\n",
    "    resultRF = resultRF.item()\n",
    "    \n",
    "    #-------------------------------------------------------------------------------\n",
    "    combIP_all = pd.read_excel(r'M:\\TechlabsWS21\\FINAL model\\combT2955FINAL.xlsx')\n",
    "    #-------------------------------------------------------------------------------\n",
    "    Y_nn = combIP_all['Yield T3028 [%]']\n",
    "    X_nn = combIP_all.drop(['Yield T3028 [%]', 'GRT13643L', 'GRTE7765', 'weitere_Verunreinigung'], axis=1)\n",
    "    Y_nn = np.ravel(Y_nn)\n",
    "    X_TrainVal, X_test, Y_TrainVal, Y_test = train_test_split(X_nn, Y_nn,test_size = 0.2,random_state = 3,shuffle = True)\n",
    "    X_train, X_val, Y_train, Y_val = train_test_split(X_TrainVal, Y_TrainVal,test_size = 0.2,random_state = 3,shuffle = True)\n",
    "    scaler1 = MinMaxScaler().fit(X_train)\n",
    "    input_data = scaler1.transform(ip_data)\n",
    "    Y_train = Y_train.reshape(-1, 1)\n",
    "    scaler2 = StandardScaler().fit(Y_train)\n",
    "\n",
    "\n",
    "    #-------------------------------------------------------------------------------\n",
    "    json_file = open(r\"M:\\TechlabsWS21\\FINAL model\\NNmodel.json\", 'r')\n",
    "    #-------------------------------------------------------------------------------\n",
    "    nn_model_json = json_file.read()\n",
    "    json_file.close()\n",
    "    nn_model = model_from_json(nn_model_json)\n",
    "    #-------------------------------------------------------------------------------\n",
    "    nn_model.load_weights(r\"M:\\TechlabsWS21\\FINAL model\\NNmodel.h5\")\n",
    "    #-------------------------------------------------------------------------------\n",
    "\n",
    "    result = nn_model.predict(input_data)\n",
    "    resultNN = scaler2.inverse_transform(result)\n",
    "    resultNN = resultNN.item()\n",
    "\n",
    "    return resultXGB, resultRF, resultNN"
   ]
  },
  {
   "cell_type": "code",
   "execution_count": 5,
   "metadata": {},
   "outputs": [],
   "source": [
    "def impurity_pred(yield_pred, ip_data):\n",
    "    ip_data_withYield = ip_data.copy()\n",
    "    ip_data_withYield.insert(0,'Yield', yield_pred)\n",
    "    \n",
    "    #-------------------------------------------------------------------------------\n",
    "    xgboost = pickle.load(open(r'M:\\TechlabsWS21\\FINAL model\\xgboostIMPURITY', 'rb'))\n",
    "    #-------------------------------------------------------------------------------\n",
    "    \n",
    "    impurity = xgboost.predict(ip_data_withYield)\n",
    "    \n",
    "    return impurity[0,0], impurity[0,1], impurity[0,2]"
   ]
  },
  {
   "cell_type": "markdown",
   "metadata": {},
   "source": [
    "## Data processing"
   ]
  },
  {
   "cell_type": "code",
   "execution_count": 31,
   "metadata": {
    "scrolled": true
   },
   "outputs": [],
   "source": [
    "#-------------------------------------------------------------------------------\n",
    "chargenbaum = pd.read_excel(r'M:\\TechlabsWS21\\FINAL model\\input_data.xlsx')\n",
    "#-------------------------------------------------------------------------------\n",
    "\n",
    "chargenbaum.rename({'T3028 Batch\\n[#]':'T3028 Batch [#]',\n",
    "                    'Batch T2955            [#]':'Batch T2955 [#]',\n",
    "                    'Weight T2955             [kg]':'Weight T2955 [kg]',\n",
    "                    'Weight T2954  in T2955 [kg]':'Weight T2954 in T2955 [kg]',\n",
    "                    'Batch T2954        [#]':'Batch T2954 [#]',\n",
    "                    'Weight T2954  \\n[kg]':'Weight T2954 [kg]',\n",
    "                    'Yield T2955 \\n[%]':'Yield T2955 [%]'\n",
    "                   },axis=1, inplace=True)\n",
    "\n",
    "\n",
    "cols = ['T3028 Batch [#]']\n",
    "chargenbaum.loc[:,cols] = chargenbaum.loc[:,cols].ffill()\n",
    "data_T2954 = pd.DataFrame()\n",
    "data_T2954 = comb_T2954(chargenbaum, data_T2954)\n",
    "data_T2954 = data_T2954.drop(['Batch T2955 [#]','Weight T2954 in T2955 [kg]','T2955 [kg]','Yield T2955 [%]'], 1)\n",
    "data_T2955 = pd.DataFrame()\n",
    "data_T2955 = comb_2955(data_T2954, data_T2955)\n",
    "data_T2955 = data_T2955.drop(['T3028 Batch [#]', 'No_ChangeINDEX'], 1)\n",
    "data_T2955.rename({'Weight_T2955 [kg]': 'weight',\n",
    "         'Content_T2955 [%]': 'content',\n",
    "         'T2955_chiral_purity [%]': 'chiral_purity',\n",
    "         'T2955_water-content [%]': 'water_content',\n",
    "         'R493916_in_T2955 [%]': 'R493916'}, axis=1, inplace=True)"
   ]
  },
  {
   "cell_type": "code",
   "execution_count": null,
   "metadata": {},
   "outputs": [],
   "source": []
  },
  {
   "cell_type": "markdown",
   "metadata": {},
   "source": [
    "# Input to the models"
   ]
  },
  {
   "cell_type": "code",
   "execution_count": 32,
   "metadata": {},
   "outputs": [
    {
     "data": {
      "text/html": [
       "<div>\n",
       "<style scoped>\n",
       "    .dataframe tbody tr th:only-of-type {\n",
       "        vertical-align: middle;\n",
       "    }\n",
       "\n",
       "    .dataframe tbody tr th {\n",
       "        vertical-align: top;\n",
       "    }\n",
       "\n",
       "    .dataframe thead th {\n",
       "        text-align: right;\n",
       "    }\n",
       "</style>\n",
       "<table border=\"1\" class=\"dataframe\">\n",
       "  <thead>\n",
       "    <tr style=\"text-align: right;\">\n",
       "      <th></th>\n",
       "      <th>weight</th>\n",
       "      <th>content</th>\n",
       "      <th>chiral_purity</th>\n",
       "      <th>water_content</th>\n",
       "      <th>R493916</th>\n",
       "    </tr>\n",
       "  </thead>\n",
       "  <tbody>\n",
       "    <tr>\n",
       "      <th>0</th>\n",
       "      <td>511.739</td>\n",
       "      <td>98.2</td>\n",
       "      <td>95.526651</td>\n",
       "      <td>0.041777</td>\n",
       "      <td>1.382232</td>\n",
       "    </tr>\n",
       "  </tbody>\n",
       "</table>\n",
       "</div>"
      ],
      "text/plain": [
       "    weight content chiral_purity water_content   R493916\n",
       "0  511.739    98.2     95.526651      0.041777  1.382232"
      ]
     },
     "execution_count": 32,
     "metadata": {},
     "output_type": "execute_result"
    }
   ],
   "source": [
    "data_T2955"
   ]
  },
  {
   "cell_type": "code",
   "execution_count": null,
   "metadata": {},
   "outputs": [],
   "source": []
  },
  {
   "cell_type": "markdown",
   "metadata": {},
   "source": [
    "# Outputs of prediction models"
   ]
  },
  {
   "cell_type": "markdown",
   "metadata": {},
   "source": [
    "#### Yield"
   ]
  },
  {
   "cell_type": "code",
   "execution_count": 33,
   "metadata": {},
   "outputs": [
    {
     "name": "stdout",
     "output_type": "stream",
     "text": [
      "WARNING:tensorflow:5 out of the last 5 calls to <function Model.make_predict_function.<locals>.predict_function at 0x000001960C4AAEE0> triggered tf.function retracing. Tracing is expensive and the excessive number of tracings could be due to (1) creating @tf.function repeatedly in a loop, (2) passing tensors with different shapes, (3) passing Python objects instead of tensors. For (1), please define your @tf.function outside of the loop. For (2), @tf.function has experimental_relax_shapes=True option that relaxes argument shapes that can avoid unnecessary retracing. For (3), please refer to https://www.tensorflow.org/tutorials/customization/performance#python_or_tensor_args and https://www.tensorflow.org/api_docs/python/tf/function for  more details.\n"
     ]
    }
   ],
   "source": [
    "xgb, rf, nn = pred_model(data_T2955)"
   ]
  },
  {
   "cell_type": "code",
   "execution_count": 34,
   "metadata": {},
   "outputs": [
    {
     "name": "stdout",
     "output_type": "stream",
     "text": [
      "Yield[%] using XGBoost regression: 81.78958129882812 \n",
      "Yield[%] using Random Forest regression: 83.64627734530087 \n",
      "Yield[%] using Neural Network regression: 82.2645263671875\n"
     ]
    }
   ],
   "source": [
    "print('Yield[%] using XGBoost regression: {} \\nYield[%] using Random Forest regression: {} \\nYield[%] using Neural Network regression: {}'.format(xgb, rf, nn))"
   ]
  },
  {
   "cell_type": "code",
   "execution_count": null,
   "metadata": {},
   "outputs": [],
   "source": []
  },
  {
   "cell_type": "markdown",
   "metadata": {},
   "source": [
    "#### Impurities"
   ]
  },
  {
   "cell_type": "code",
   "execution_count": 35,
   "metadata": {},
   "outputs": [],
   "source": [
    "GRT13643L, GRTE7765, weitere_Verunreinigung = impurity_pred(nn, data_T2955)"
   ]
  },
  {
   "cell_type": "code",
   "execution_count": 36,
   "metadata": {},
   "outputs": [
    {
     "name": "stdout",
     "output_type": "stream",
     "text": [
      "GRT13643L [%]: 0.05452575534582138 \n",
      "GRTE7765[%]: 0.15020138025283813 \n",
      "Weitere Verunreinigung[%]: 0.05689673870801926\n"
     ]
    }
   ],
   "source": [
    "print('GRT13643L [%]: {} \\nGRTE7765[%]: {} \\nWeitere Verunreinigung[%]: {}'.format(GRT13643L, GRTE7765, weitere_Verunreinigung))"
   ]
  },
  {
   "cell_type": "code",
   "execution_count": null,
   "metadata": {},
   "outputs": [],
   "source": []
  },
  {
   "cell_type": "code",
   "execution_count": null,
   "metadata": {},
   "outputs": [],
   "source": []
  },
  {
   "cell_type": "markdown",
   "metadata": {},
   "source": [
    "# Storing Result"
   ]
  },
  {
   "cell_type": "code",
   "execution_count": 37,
   "metadata": {},
   "outputs": [
    {
     "data": {
      "text/html": [
       "<div>\n",
       "<style scoped>\n",
       "    .dataframe tbody tr th:only-of-type {\n",
       "        vertical-align: middle;\n",
       "    }\n",
       "\n",
       "    .dataframe tbody tr th {\n",
       "        vertical-align: top;\n",
       "    }\n",
       "\n",
       "    .dataframe thead th {\n",
       "        text-align: right;\n",
       "    }\n",
       "</style>\n",
       "<table border=\"1\" class=\"dataframe\">\n",
       "  <thead>\n",
       "    <tr style=\"text-align: right;\">\n",
       "      <th></th>\n",
       "      <th>T3028 Batch [#]</th>\n",
       "      <th>Yield [%]</th>\n",
       "      <th>GRT13643L [%]</th>\n",
       "      <th>GRTE7765[%]</th>\n",
       "      <th>Weitere Verunreinigung[%]</th>\n",
       "    </tr>\n",
       "  </thead>\n",
       "  <tbody>\n",
       "    <tr>\n",
       "      <th>0</th>\n",
       "      <td>S0775</td>\n",
       "      <td>82.264526</td>\n",
       "      <td>0.054526</td>\n",
       "      <td>0.150201</td>\n",
       "      <td>0.056897</td>\n",
       "    </tr>\n",
       "  </tbody>\n",
       "</table>\n",
       "</div>"
      ],
      "text/plain": [
       "  T3028 Batch [#]  Yield [%]  GRT13643L [%]  GRTE7765[%]  \\\n",
       "0           S0775  82.264526       0.054526     0.150201   \n",
       "\n",
       "   Weitere Verunreinigung[%]  \n",
       "0                   0.056897  "
      ]
     },
     "execution_count": 37,
     "metadata": {},
     "output_type": "execute_result"
    }
   ],
   "source": [
    "output_data = pd.DataFrame(columns=['T3028 Batch [#]', 'Yield [%]', 'GRT13643L [%]', 'GRTE7765[%]', 'Weitere Verunreinigung[%]'])\n",
    "output_data.loc[0] = [chargenbaum['T3028 Batch [#]'][0], nn, GRT13643L, GRTE7765, weitere_Verunreinigung]\n",
    "\n",
    "output_data"
   ]
  },
  {
   "cell_type": "code",
   "execution_count": 38,
   "metadata": {},
   "outputs": [],
   "source": [
    "#------------------------------------------------------------------------------------------------------\n",
    "#output_data.to_excel(r'M:\\TechlabsWS21\\FINAL model\\output_data.xlsx', index = False)\n",
    "#------------------------------------------------------------------------------------------------------"
   ]
  },
  {
   "cell_type": "code",
   "execution_count": null,
   "metadata": {},
   "outputs": [],
   "source": []
  }
 ],
 "metadata": {
  "kernelspec": {
   "display_name": "Python 3",
   "language": "python",
   "name": "python3"
  },
  "language_info": {
   "codemirror_mode": {
    "name": "ipython",
    "version": 3
   },
   "file_extension": ".py",
   "mimetype": "text/x-python",
   "name": "python",
   "nbconvert_exporter": "python",
   "pygments_lexer": "ipython3",
   "version": "3.8.5"
  }
 },
 "nbformat": 4,
 "nbformat_minor": 5
}
